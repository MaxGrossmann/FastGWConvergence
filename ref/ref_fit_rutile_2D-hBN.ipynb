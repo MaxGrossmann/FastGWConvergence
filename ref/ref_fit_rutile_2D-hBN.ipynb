{
 "cells": [
  {
   "cell_type": "code",
   "execution_count": null,
   "metadata": {},
   "outputs": [],
   "source": [
    "# external imports\n",
    "import os\n",
    "import scipy\n",
    "import numpy as np\n",
    "import matplotlib.pyplot as plt\n",
    "\n",
    "# setup for plots\n",
    "plt.rcParams[\"text.usetex\"] = True\n",
    "plt.rc(\"font\", family=\"serif\")\n",
    "plt.rc(\"xtick\", labelsize=\"x-small\")\n",
    "plt.rc(\"ytick\", labelsize=\"x-small\")\n",
    "plt.rc(\"text\", usetex=True)"
   ]
  },
  {
   "cell_type": "markdown",
   "metadata": {},
   "source": [
    "### Information \n",
    "\n",
    "This notebook reproduces the results from Bonacci et al. [1] \n",
    "by using a copy of the functions defined in *src/utils/yambo_gw_conv_class.py* that \n",
    "are used for the NPJ/SOTA convergence workflows. \n",
    "\n",
    "### Structure\n",
    "\n",
    "We copy the parameters for the fitting grids shown in the supplementary information [2] for each given material.\n",
    "Then we parse the gaps for each grid from the provided raw data files (*raw_input_output* [3]). Then the functions *get_best_fit* and *suggest_next_point* are called to check if the next point matches the one shown in the corresponding figure [2]. Then the convergence criteria are checked. This is repeated until the last point is found.\n",
    "\n",
    "### Material 2D-hBN\n",
    "\n",
    "[1] https://doi.org/10.1038/s41524-023-01027-2 \\\n",
    "[2] https://static-content.springer.com/esm/art%3A10.1038%2Fs41524-023-01027-2/MediaObjects/41524_2023_1027_MOESM1_ESM.pdf \\\n",
    "[3] https://archive.materialscloud.org/record/2022.161"
   ]
  },
  {
   "cell_type": "code",
   "execution_count": null,
   "metadata": {},
   "outputs": [],
   "source": [
    "# material\n",
    "mat = \"2D-hBN\""
   ]
  },
  {
   "cell_type": "code",
   "execution_count": null,
   "metadata": {},
   "outputs": [],
   "source": [
    "# settings (from the paper and *aiida-yambo* github)\n",
    "conv_thr = 0.010\n",
    "conv_grad = 5e-5\n",
    "conv_hessian = 1e-8\n",
    "bnd_max = 1600  # random value...\n",
    "cut_max = 36\n",
    "bnd_step = 200\n",
    "cut_step = 4\n",
    "step = [bnd_step, cut_step]"
   ]
  },
  {
   "cell_type": "code",
   "execution_count": null,
   "metadata": {},
   "outputs": [],
   "source": [
    "# grids from supplementary figure 3\n",
    "param_grids = []\n",
    "param_grids.append(\n",
    "    np.array([[200, 4], [200, 16], [400, 12], [600, 8], [800, 4], [800, 16]])\n",
    ")"
   ]
  },
  {
   "cell_type": "code",
   "execution_count": null,
   "metadata": {},
   "outputs": [],
   "source": [
    "# function to parse the direct gap from the output file\n",
    "def get_direct_gw_gap(f_name):\n",
    "    data = np.loadtxt(f_name, comments=\"#\")\n",
    "    return (data[1, 2] + data[1, 3]) - (data[0, 2] + data[0, 3])"
   ]
  },
  {
   "cell_type": "code",
   "execution_count": null,
   "metadata": {},
   "outputs": [],
   "source": [
    "# parse the calculated gaps\n",
    "qp_file_name = \"o-aiida.out.qp\"\n",
    "mat_path = os.path.join(\"raw_input_output\", mat)\n",
    "grid_num = 0\n",
    "grid_plot = []\n",
    "grids = []\n",
    "for g in param_grids:\n",
    "    temp_grid = []\n",
    "    for p in g:\n",
    "        temp_gap = get_direct_gw_gap(\n",
    "            os.path.join(mat_path, f\"{p[0]:d}_{p[1]:d}_8X8X1\", qp_file_name)\n",
    "        )\n",
    "        grid_plot.append([p[0], p[1], temp_gap, grid_num])\n",
    "        temp_grid.append([p[0], p[1], temp_gap])\n",
    "    grids.append(np.array(temp_grid))\n",
    "    grid_num += 1\n",
    "grid_plot = np.array(grid_plot)"
   ]
  },
  {
   "cell_type": "markdown",
   "metadata": {},
   "source": [
    "The calculation with 200 bands and 16 Ry cutoff shown in Fig. 5 (a) of [1] was not provided in the data.\n",
    "Therefore, we are unable to replicate the fit with the data provided."
   ]
  }
 ],
 "metadata": {
  "kernelspec": {
   "display_name": "pmg",
   "language": "python",
   "name": "python3"
  },
  "language_info": {
   "codemirror_mode": {
    "name": "ipython",
    "version": 3
   },
   "file_extension": ".py",
   "mimetype": "text/x-python",
   "name": "python",
   "nbconvert_exporter": "python",
   "pygments_lexer": "ipython3",
   "version": "3.10.9"
  }
 },
 "nbformat": 4,
 "nbformat_minor": 2
}
